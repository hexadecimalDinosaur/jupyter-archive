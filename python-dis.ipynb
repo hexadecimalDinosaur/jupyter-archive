{
 "cells": [
  {
   "cell_type": "markdown",
   "id": "b9a32e24-b55b-41a7-a6dc-02c6b9f25483",
   "metadata": {},
   "source": [
    "# Python Bytecode and Disassembly\n",
    "## Compiling Python Code and Code Objects\n",
    "Usually the difference between compiled and interpreted languages is that a compiled language must be converted from high-level code to CPU instructions whereas interpreted languages read code line by line and execute it. However, Python is not fully interpreted like shells are nor is it compiled in the traditional sense we know. Instead Python source code is compiled to a simpler instruction set called bytecode which is executed by the Python Virtual Machine. This compilation step is usually performed at runtime as needed and is why you may `.pyc` files in a `__pycache__` folder after execution. This is where Python caches is compilation to use next execution if the code remains unchanged. It is possible to compile your Python files before execution using `python -m compileall [file]` and `.pyc` files can be run like normal Python files using `python [pyc_file]`.\n",
    "\n",
    "To compile a string of Python code to a code object we can use the built in `compile` function. This gives us a code object which has different attributes like `co_code` which contains the bytecode in byte form, `co_consts` which contains all constants, and `co_varnames` which contains a list of variable names used in the code. Notice how any methods, classes, or lambda expressions within your code is compiled to seperate code objects stored within `co_consts`."
   ]
  },
  {
   "cell_type": "code",
   "execution_count": 1,
   "id": "ad719acd-bcab-4d01-8bae-898cfcdc09c8",
   "metadata": {},
   "outputs": [
    {
     "data": {
      "text/plain": [
       "<code object <module> at 0x7f90400503a0, file \"test\", line 1>"
      ]
     },
     "execution_count": 1,
     "metadata": {},
     "output_type": "execute_result"
    }
   ],
   "source": [
    "code = \"print('hello world!')\"\n",
    "code = compile(code, 'test', 'exec')\n",
    "code"
   ]
  },
  {
   "cell_type": "code",
   "execution_count": 2,
   "id": "4808c243-3d4c-4abe-80ba-f5207d181099",
   "metadata": {},
   "outputs": [
    {
     "data": {
      "text/plain": [
       "b'e\\x00d\\x00\\x83\\x01\\x01\\x00d\\x01S\\x00'"
      ]
     },
     "execution_count": 2,
     "metadata": {},
     "output_type": "execute_result"
    }
   ],
   "source": [
    "code.co_code"
   ]
  },
  {
   "cell_type": "code",
   "execution_count": 3,
   "id": "d79393f4-aa76-4632-a8a0-feca711b2c33",
   "metadata": {},
   "outputs": [
    {
     "data": {
      "text/plain": [
       "('hello world!', None)"
      ]
     },
     "execution_count": 3,
     "metadata": {},
     "output_type": "execute_result"
    }
   ],
   "source": [
    "code.co_consts"
   ]
  },
  {
   "cell_type": "code",
   "execution_count": 4,
   "id": "c0f5a5fa-14ba-4ca7-ba48-12a05fd81fc9",
   "metadata": {},
   "outputs": [
    {
     "name": "stdout",
     "output_type": "stream",
     "text": [
      "hello world!\n"
     ]
    }
   ],
   "source": [
    "eval(code)"
   ]
  },
  {
   "cell_type": "markdown",
   "id": "7a404e7c-0654-4140-83f2-89462c3aefe9",
   "metadata": {
    "tags": []
   },
   "source": [
    "## Disassembling Code\n",
    "[`dis`](https://docs.python.org/3/library/dis.html) is a built-in module for disassembling CPython bytecode. The built in `dis.dis` method prints out the disassembly of any code object passed to it."
   ]
  },
  {
   "cell_type": "code",
   "execution_count": 5,
   "id": "e35f570f-4286-4135-a62e-2a87ff49af8e",
   "metadata": {
    "tags": []
   },
   "outputs": [
    {
     "name": "stdout",
     "output_type": "stream",
     "text": [
      "  1           0 LOAD_NAME                0 (print)\n",
      "              2 LOAD_CONST               0 ('hello world!')\n",
      "              4 CALL_FUNCTION            1\n",
      "              6 POP_TOP\n",
      "              8 LOAD_CONST               1 (None)\n",
      "             10 RETURN_VALUE\n"
     ]
    }
   ],
   "source": [
    "import dis\n",
    "dis.dis(code)"
   ]
  },
  {
   "cell_type": "markdown",
   "id": "5d679705-5ad4-404f-a8cb-6e7fdd7a62a9",
   "metadata": {},
   "source": [
    "This disassembly format may be hard to read at first but from left to right is the line number in the code, byte offset, instruction name, and arguments. Python bytecode is run in a stack-based virtual machine and is oriented entirely around stack based data structures.\n",
    "### Common Bytecode Instructions\n",
    "Here are some of the common instructions you'll see in Python Bytecode\n",
    "#### `POP_TOP`\n",
    "Bytecode is run in a stack and this instruction removes the item at the top of the stack (usually refered to as top-of-stack or TOS)\n",
    "#### `LOAD_NAME`\n",
    "Pushes the value associated with the name onto the stack. Takes a single name argument.\n",
    "#### `LOAD_CONST`\n",
    "Pushes the constant argument onto the stack.\n",
    "#### `LOAD_GLOBAL`\n",
    "Pushes the value associated with the global name argument onto the stack. Works similarily to `LOAD_NAME`.\n",
    "#### `STORE_FAST`\n",
    "Stores the TOS item to the variable name given.\n",
    "#### `CALL_FUNCTION`\n",
    "Calls a callable/function item with positional arguments. The argument for this instruction is the number of positional arguments should be passed to the function from the TOS. Below the arguments is the callable item. This instruction will pop all the positional arguments and callable item off the stack and push the return value of the function.\n",
    "#### `LOAD_METHOD`\n",
    "Loads a method item with name matching argument from the TOS item. TOS is popped and the object and method are pushed to TOS if it is an unbound method. Otherwise, `NULL` and the method are pushed to TOS.\n",
    "#### `CALL_METHOD`\n",
    "Calls a method with positional arguments. The argument for this instruction is number of positional arguments passed from TOS. Below the arguments is the callable method and method object. Arguments, method, and method object are poped and the return value is pushed to TOS. This instruction is designed to be used with the `LOAD_METHOD` instruction.\n",
    "#### `RETURN_VALUE`\n",
    "Returns the TOS item to the caller of the function."
   ]
  },
  {
   "cell_type": "code",
   "execution_count": null,
   "id": "6e2dccc8-d36d-400d-ad86-65dded31a92a",
   "metadata": {},
   "outputs": [],
   "source": []
  }
 ],
 "metadata": {
  "kernelspec": {
   "display_name": "Python 3 (ipykernel)",
   "language": "python",
   "name": "python3"
  },
  "language_info": {
   "codemirror_mode": {
    "name": "ipython",
    "version": 3
   },
   "file_extension": ".py",
   "mimetype": "text/x-python",
   "name": "python",
   "nbconvert_exporter": "python",
   "pygments_lexer": "ipython3",
   "version": "3.9.7"
  },
  "toc-autonumbering": false,
  "toc-showcode": true,
  "toc-showmarkdowntxt": false,
  "toc-showtags": false
 },
 "nbformat": 4,
 "nbformat_minor": 5
}
