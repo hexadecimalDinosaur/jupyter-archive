{
 "cells": [
  {
   "cell_type": "markdown",
   "id": "b9a32e24-b55b-41a7-a6dc-02c6b9f25483",
   "metadata": {},
   "source": [
    "# Python Bytecode and Disassembly\n",
    "## Compiling Python Code and Code Objects\n",
    "Usually the difference between compiled and interpreted languages is that a compiled language must be converted from high-level code to CPU instructions whereas interpreted languages read code line by line and execute it. However, Python is not fully interpreted like shells are nor is it compiled in the traditional sense we know. Instead Python source code is compiled to a simpler instruction set called bytecode which is executed by the Python Virtual Machine. This compilation step is usually performed at runtime as needed and is why you may `.pyc` files in a `__pycache__` folder after execution. This is where Python caches is compilation to use next execution if the code remains unchanged. It is possible to compile your Python files before execution using `python -m compileall [file]` and `.pyc` files can be run like normal Python files using `python [pyc_file]`.\n",
    "\n",
    "To compile a string of Python code to a code object we can use the built in `compile` function. This gives us a code object which has different attributes like `co_code` which contains the bytecode in byte form, `co_consts` which contains all constants, and `co_varnames` which contains a list of variable names used in the code. Notice how any methods, classes, or lambda expressions within your code is compiled to seperate code objects stored within `co_consts`."
   ]
  },
  {
   "cell_type": "code",
   "execution_count": 1,
   "id": "ad719acd-bcab-4d01-8bae-898cfcdc09c8",
   "metadata": {},
   "outputs": [
    {
     "data": {
      "text/plain": [
       "<code object <module> at 0x7f5ce4343240, file \"test\", line 1>"
      ]
     },
     "execution_count": 1,
     "metadata": {},
     "output_type": "execute_result"
    }
   ],
   "source": [
    "code = \"print('hello world!')\"\n",
    "code = compile(code, 'test', 'exec')\n",
    "code"
   ]
  },
  {
   "cell_type": "code",
   "execution_count": 2,
   "id": "4808c243-3d4c-4abe-80ba-f5207d181099",
   "metadata": {},
   "outputs": [
    {
     "data": {
      "text/plain": [
       "b'e\\x00d\\x00\\x83\\x01\\x01\\x00d\\x01S\\x00'"
      ]
     },
     "execution_count": 2,
     "metadata": {},
     "output_type": "execute_result"
    }
   ],
   "source": [
    "code.co_code"
   ]
  },
  {
   "cell_type": "code",
   "execution_count": 3,
   "id": "d79393f4-aa76-4632-a8a0-feca711b2c33",
   "metadata": {},
   "outputs": [
    {
     "data": {
      "text/plain": [
       "('hello world!', None)"
      ]
     },
     "execution_count": 3,
     "metadata": {},
     "output_type": "execute_result"
    }
   ],
   "source": [
    "code.co_consts"
   ]
  },
  {
   "cell_type": "code",
   "execution_count": 4,
   "id": "c0f5a5fa-14ba-4ca7-ba48-12a05fd81fc9",
   "metadata": {},
   "outputs": [
    {
     "name": "stdout",
     "output_type": "stream",
     "text": [
      "hello world!\n"
     ]
    }
   ],
   "source": [
    "eval(code)"
   ]
  },
  {
   "cell_type": "markdown",
   "id": "7a404e7c-0654-4140-83f2-89462c3aefe9",
   "metadata": {
    "tags": []
   },
   "source": [
    "## Disassembling Code\n",
    "[`dis`](https://docs.python.org/3/library/dis.html) is a built-in module for disassembling CPython bytecode. The built in `dis.dis` method prints out the disassembly of any code object passed to it."
   ]
  },
  {
   "cell_type": "code",
   "execution_count": 5,
   "id": "e35f570f-4286-4135-a62e-2a87ff49af8e",
   "metadata": {
    "tags": []
   },
   "outputs": [
    {
     "name": "stdout",
     "output_type": "stream",
     "text": [
      "  1           0 LOAD_NAME                0 (print)\n",
      "              2 LOAD_CONST               0 ('hello world!')\n",
      "              4 CALL_FUNCTION            1\n",
      "              6 POP_TOP\n",
      "              8 LOAD_CONST               1 (None)\n",
      "             10 RETURN_VALUE\n"
     ]
    }
   ],
   "source": [
    "import dis\n",
    "dis.dis(code)"
   ]
  },
  {
   "cell_type": "markdown",
   "id": "5d679705-5ad4-404f-a8cb-6e7fdd7a62a9",
   "metadata": {},
   "source": [
    "This disassembly format may be hard to read at first but from left to right is the line number in the code, byte offset, instruction name, and arguments. Python bytecode is run in a stack-based virtual machine and is oriented entirely around stack based data structures.\n",
    "### Common Bytecode Instructions\n",
    "Here are some of the common instructions you'll see in Python Bytecode\n",
    "#### `POP_TOP`\n",
    "Bytecode is run in a stack and this instruction removes the item at the top of the stack (usually refered to as top-of-stack or TOS)\n",
    "#### `LOAD_NAME`\n",
    "Pushes the value associated with the name onto the stack. Takes a single name argument.\n",
    "#### `LOAD_CONST`\n",
    "Pushes the constant argument onto the stack.\n",
    "#### `LOAD_GLOBAL`\n",
    "Pushes the value associated with the global name argument onto the stack. Works similarily to `LOAD_NAME`.\n",
    "#### `STORE_NAME`\n",
    "Stores the TOS item to the variable name given in argument. Removes the TOS from stack.\n",
    "#### `STORE_FAST`\n",
    "Stores the TOS item to the variable name given.\n",
    "#### `CALL_FUNCTION`\n",
    "Calls a callable/function item with positional arguments. The argument for this instruction is the number of positional arguments should be passed to the function from the TOS. Below the arguments is the callable item. This instruction will pop all the positional arguments and callable item off the stack and push the return value of the function.\n",
    "#### `LOAD_METHOD`\n",
    "Loads a method item with name matching argument from the TOS item. TOS is popped and the object and method are pushed to TOS if it is an unbound method. Otherwise, `NULL` and the method are pushed to TOS.\n",
    "#### `CALL_METHOD`\n",
    "Calls a method with positional arguments. The argument for this instruction is number of positional arguments passed from TOS. Below the arguments is the callable method and method object. Arguments, method, and method object are poped and the return value is pushed to TOS. This instruction is designed to be used with the `LOAD_METHOD` instruction.\n",
    "#### `RETURN_VALUE`\n",
    "Returns the TOS item to the caller of the function."
   ]
  },
  {
   "cell_type": "markdown",
   "id": "bdeaef7c-b732-460e-815a-9b04b5655ef0",
   "metadata": {},
   "source": [
    "### Math Instructions\n",
    "#### Binary Operations"
   ]
  },
  {
   "cell_type": "code",
   "execution_count": 6,
   "id": "76fac0af-9547-444e-b6ef-4f1a16739413",
   "metadata": {},
   "outputs": [
    {
     "name": "stdout",
     "output_type": "stream",
     "text": [
      "  2           0 LOAD_CONST               0 (2)\n",
      "              2 STORE_NAME               0 (a)\n",
      "\n",
      "  3           4 LOAD_CONST               1 (3)\n",
      "              6 STORE_NAME               1 (b)\n",
      "\n",
      "  4           8 LOAD_NAME                0 (a)\n",
      "             10 LOAD_NAME                1 (b)\n",
      "             12 BINARY_ADD\n",
      "             14 STORE_NAME               2 (sum)\n",
      "\n",
      "  5          16 LOAD_NAME                0 (a)\n",
      "             18 LOAD_NAME                1 (b)\n",
      "             20 BINARY_SUBTRACT\n",
      "             22 STORE_NAME               3 (difference)\n",
      "\n",
      "  6          24 LOAD_NAME                0 (a)\n",
      "             26 LOAD_NAME                1 (b)\n",
      "             28 BINARY_MULTIPLY\n",
      "             30 STORE_NAME               4 (product)\n",
      "\n",
      "  7          32 LOAD_NAME                0 (a)\n",
      "             34 LOAD_NAME                1 (b)\n",
      "             36 BINARY_TRUE_DIVIDE\n",
      "             38 STORE_NAME               5 (quotient)\n",
      "\n",
      "  8          40 LOAD_NAME                0 (a)\n",
      "             42 LOAD_NAME                1 (b)\n",
      "             44 BINARY_FLOOR_DIVIDE\n",
      "             46 STORE_NAME               6 (floored)\n",
      "\n",
      "  9          48 LOAD_NAME                0 (a)\n",
      "             50 LOAD_NAME                1 (b)\n",
      "             52 BINARY_POWER\n",
      "             54 STORE_NAME               7 (power)\n",
      "             56 LOAD_CONST               2 (None)\n",
      "             58 RETURN_VALUE\n"
     ]
    }
   ],
   "source": [
    "code = \"\"\"\n",
    "a = 2\n",
    "b = 3\n",
    "sum = a + b\n",
    "difference = a - b\n",
    "product = a * b\n",
    "quotient = a / b\n",
    "floored = a // b\n",
    "power = a ** b\n",
    "\"\"\"\n",
    "code = compile(code, 'test', 'exec')\n",
    "dis.dis(code)"
   ]
  },
  {
   "cell_type": "markdown",
   "id": "577ab1f0-13d6-4e43-8c21-16cf16d820e5",
   "metadata": {},
   "source": [
    "Binary operation instructions remove the TOS and second most top-of-stack item (TOS1), perform the operation, and push the result back onto the stack.\n",
    "\n",
    "`BINARY_ADD`: `TOS = TOS + TOS1`\n",
    "\n",
    "`BINARY_SUBTRACT`: `TOS = TOS - TOS1`\n",
    "\n",
    "`BINARY_MULTIPLY`: `TOS = TOS * TOS1`\n",
    "\n",
    "`BINARY_TRUE_DIVIDE`: `TOS = TOS / TOS1`\n",
    "\n",
    "`BINARY_FLOOR_DIVIDE`: `TOS = TOS // TOS1`\n",
    "\n",
    "`BINARY_POWER`: `TOS = TOS ** TOS1`\n",
    "\n",
    "`BINARY_MODULO`: `TOS = TOS % TOS1`\n",
    "\n",
    "`BINARY_XOR`: `TOS = TOS ^ TOS1`\n",
    "\n",
    "`BINARY_AND`: `TOS = TOS & TOS1`\n",
    "\n",
    "`BINARY_OR`: `TOS = TOS | TOS1`\n",
    "\n",
    "#### Inplace Operations"
   ]
  },
  {
   "cell_type": "code",
   "execution_count": 7,
   "id": "4ccb4ab8-0769-41c5-8076-8b6b97da83b1",
   "metadata": {},
   "outputs": [
    {
     "name": "stdout",
     "output_type": "stream",
     "text": [
      "  2           0 LOAD_CONST               0 (13)\n",
      "              2 STORE_NAME               0 (a)\n",
      "\n",
      "  3           4 LOAD_CONST               1 (15)\n",
      "              6 STORE_NAME               1 (b)\n",
      "\n",
      "  4           8 LOAD_NAME                0 (a)\n",
      "             10 LOAD_NAME                1 (b)\n",
      "             12 INPLACE_ADD\n",
      "             14 STORE_NAME               0 (a)\n",
      "\n",
      "  5          16 LOAD_NAME                1 (b)\n",
      "             18 LOAD_NAME                1 (b)\n",
      "             20 INPLACE_SUBTRACT\n",
      "             22 STORE_NAME               1 (b)\n",
      "\n",
      "  6          24 LOAD_NAME                0 (a)\n",
      "             26 LOAD_NAME                1 (b)\n",
      "             28 INPLACE_MULTIPLY\n",
      "             30 STORE_NAME               0 (a)\n",
      "\n",
      "  7          32 LOAD_NAME                0 (a)\n",
      "             34 LOAD_NAME                1 (b)\n",
      "             36 INPLACE_TRUE_DIVIDE\n",
      "             38 STORE_NAME               0 (a)\n",
      "             40 LOAD_CONST               2 (None)\n",
      "             42 RETURN_VALUE\n"
     ]
    }
   ],
   "source": [
    "code = \"\"\"\n",
    "a = 13\n",
    "b = 15\n",
    "a += b\n",
    "b -= b\n",
    "a *= b\n",
    "a /= b\n",
    "\"\"\"\n",
    "code = compile(code, 'test', 'exec')\n",
    "dis.dis(code)"
   ]
  },
  {
   "cell_type": "markdown",
   "id": "2347d4c0-f652-433f-8577-33e18e820137",
   "metadata": {},
   "source": [
    "Inplace operation instructions are used when there for inplace operators in Python code. Like binary operation instructions, they pop TOS and TOS1, perform the operation, and push the result onto the stack.\n",
    "\n",
    "`INPLACE_ADD`: `TOS += TOS1`\n",
    "\n",
    "`INPLACE_SUBTRACT`: `TOS -= TOS1`\n",
    "\n",
    "`INPLACE_MULTIPLY`: `TOS *= TOS1`\n",
    "\n",
    "`INPLACE_POWER`: `TOS **= TOS1`\n",
    "\n",
    "`INPLACE_TRUE_DIVIDE`: `TOS /= TOS1`\n",
    "\n",
    "`INPLACE_FLOOR_DIVIDE`: `TOS //= TOS1`\n",
    "\n",
    "`INPLACE_MODULO`: `TOS %= TOS1`\n",
    "\n",
    "`INPLACE_XOR`: `TOS ^= TOS1`\n",
    "\n",
    "`INPLACE_AND`: `TOS &= TOS1`\n",
    "\n",
    "`INPLACE_OR`: `TOS |= TOS1`\n",
    "\n",
    "#### Unary Operation Instructions\n",
    "These operation instructions take the TOS, apply an operation, and push the result back onto the stack.\n",
    "\n",
    "`UNARY_POSITIVE`: `TOS = +TOS`\n",
    "\n",
    "`UNARY_NEGATIVE`: `TOS = -TOS`\n",
    "\n",
    "`UNARY_NOT`: `TOS = not TOS`\n",
    "\n",
    "`UNARY_INVERT`: "
   ]
  },
  {
   "cell_type": "markdown",
   "id": "7196ca3e-d7ee-4f33-9e54-cac366545a83",
   "metadata": {},
   "source": [
    "### Comparison Instructions"
   ]
  },
  {
   "cell_type": "code",
   "execution_count": 8,
   "id": "b129afc0-f7ab-4aae-a0ba-56aa6d51b2bb",
   "metadata": {},
   "outputs": [
    {
     "name": "stdout",
     "output_type": "stream",
     "text": [
      "  2           0 LOAD_CONST               0 (1)\n",
      "              2 LOAD_CONST               0 (1)\n",
      "              4 COMPARE_OP               2 (==)\n",
      "              6 POP_TOP\n",
      "\n",
      "  3           8 LOAD_CONST               0 (1)\n",
      "             10 LOAD_CONST               1 (0)\n",
      "             12 COMPARE_OP               3 (!=)\n",
      "             14 POP_TOP\n",
      "\n",
      "  4          16 LOAD_CONST               0 (1)\n",
      "             18 LOAD_CONST               1 (0)\n",
      "             20 COMPARE_OP               1 (<=)\n",
      "             22 POP_TOP\n",
      "\n",
      "  5          24 LOAD_CONST               0 (1)\n",
      "             26 LOAD_CONST               2 ((1, 2, 3))\n",
      "             28 CONTAINS_OP              0\n",
      "             30 POP_TOP\n",
      "\n",
      "  6          32 LOAD_CONST               3 ('a')\n",
      "             34 STORE_NAME               0 (a)\n",
      "\n",
      "  7          36 LOAD_NAME                0 (a)\n",
      "             38 STORE_NAME               1 (b)\n",
      "\n",
      "  8          40 LOAD_NAME                1 (b)\n",
      "             42 LOAD_NAME                0 (a)\n",
      "             44 IS_OP                    0\n",
      "             46 POP_TOP\n",
      "             48 LOAD_CONST               4 (None)\n",
      "             50 RETURN_VALUE\n"
     ]
    }
   ],
   "source": [
    "code = \"\"\"\n",
    "1 == 1\n",
    "1 != 0\n",
    "1 <= 0\n",
    "1 in [1,2,3]\n",
    "a = 'a'\n",
    "b = a\n",
    "b is a\n",
    "\"\"\"\n",
    "code = compile(code, 'test', 'exec')\n",
    "dis.dis(code)"
   ]
  },
  {
   "cell_type": "markdown",
   "id": "bd0c264c-0f29-4188-a650-43905e7778fb",
   "metadata": {},
   "source": [
    "#### `COMPARE_OP`\n",
    "Takes a comparison operator as an argument, takes the TOS and TOS1, performs the comparison on them, and pushes the True or False result onto the stack\n",
    "#### `IS_OP`\n",
    "Has a single invert argument, takes the TOS and TOS1, performs a `is` comparison on them, unless the invert argument is set to 1 where the instruction performs a `is not` comparison. Pushes the result onto the stack\n",
    "#### `CONTAINS_OP`\n",
    "Has a single invert argument, takes the TOS and TOS1, performs a `in` comparison on them, unless the invert argument is set to 1 where the instruction performs a `not in` comparison. Pushes the result onto the stack"
   ]
  },
  {
   "cell_type": "markdown",
   "id": "57540d07-18aa-42e6-abd4-2d38e6bbeafa",
   "metadata": {},
   "source": [
    "### Conditionals\n",
    "Conditionals and loops in Python bytecode are performed using jump instructions"
   ]
  },
  {
   "cell_type": "code",
   "execution_count": 9,
   "id": "d951098a-5348-451e-9f55-4799f2e85da7",
   "metadata": {},
   "outputs": [
    {
     "name": "stdout",
     "output_type": "stream",
     "text": [
      "  2           0 LOAD_CONST               0 (5)\n",
      "              2 STORE_NAME               0 (num)\n",
      "\n",
      "  3           4 LOAD_NAME                0 (num)\n",
      "              6 LOAD_CONST               1 (2)\n",
      "              8 BINARY_MODULO\n",
      "             10 LOAD_CONST               2 (0)\n",
      "             12 COMPARE_OP               2 (==)\n",
      "             14 POP_JUMP_IF_FALSE       26\n",
      "\n",
      "  4          16 LOAD_NAME                1 (print)\n",
      "             18 LOAD_CONST               3 ('even')\n",
      "             20 CALL_FUNCTION            1\n",
      "             22 POP_TOP\n",
      "             24 JUMP_FORWARD             8 (to 34)\n",
      "\n",
      "  6     >>   26 LOAD_NAME                1 (print)\n",
      "             28 LOAD_CONST               4 ('odd')\n",
      "             30 CALL_FUNCTION            1\n",
      "             32 POP_TOP\n",
      "        >>   34 LOAD_CONST               5 (None)\n",
      "             36 RETURN_VALUE\n"
     ]
    }
   ],
   "source": [
    "code = \"\"\"\n",
    "num = 5\n",
    "if num % 2 == 0:\n",
    "    print('even')\n",
    "else:\n",
    "    print('odd')\n",
    "\"\"\"\n",
    "code = compile(code, 'test', 'exec')\n",
    "dis.dis(code)"
   ]
  },
  {
   "cell_type": "markdown",
   "id": "68d4c8ec-2a49-4d69-bf64-a1b974b0cc92",
   "metadata": {},
   "source": [
    "`if`, `elif`, and `else` statements in Python bytecode are done using the `POP_JUMP_IF_FALSE` and `POP_JUMP_IF_TRUE` instructions. The conditional blocks end with a `JUMP_FORWARD` instruction to jump to the next instruction outside of conditional blocks. Jump targets are easy to find in the disassembler's output as they are marked by a `>>` before the bytecode offset.\n",
    "#### `POP_JUMP_IF_FALSE`\n",
    "If TOS is false jumps to bytecode instruction at target argument. Pops TOS.\n",
    "#### `POP_JUMP_IF_TRUE`\n",
    "If TOS is true jumps to bytecode instruction at target argument. Pops TOS.\n",
    "#### `JUMP_FORWARD`\n",
    "Increments the bytecode counter by the delta argument."
   ]
  }
 ],
 "metadata": {
  "kernelspec": {
   "display_name": "Python 3 (ipykernel)",
   "language": "python",
   "name": "python3"
  },
  "language_info": {
   "codemirror_mode": {
    "name": "ipython",
    "version": 3
   },
   "file_extension": ".py",
   "mimetype": "text/x-python",
   "name": "python",
   "nbconvert_exporter": "python",
   "pygments_lexer": "ipython3",
   "version": "3.9.7"
  },
  "toc-autonumbering": false,
  "toc-showcode": true,
  "toc-showmarkdowntxt": false,
  "toc-showtags": false
 },
 "nbformat": 4,
 "nbformat_minor": 5
}
